{
 "cells": [
  {
   "cell_type": "markdown",
   "metadata": {},
   "source": [
    "## Experiment Class\n",
    "Each object will be a different experiment, comprised of:\n",
    "\n",
    "- A set of UE point sets\n",
    "- A set of working BS\n",
    "- An genesis parent from which children will be created\n",
    "- Multiple Childs\n",
    "\n",
    "The object will carry the results of the expermients as local variables."
   ]
  },
  {
   "cell_type": "code",
   "execution_count": null,
   "metadata": {},
   "outputs": [],
   "source": [
    "class Experiment:\n",
    "    def __init__(self, MBset, UEset)\n",
    "        self.MBset = MBset\n",
    "        self.UEset = UEset\n",
    "        # create parent based on given clusters from a set\n",
    "        # create first generation of childs from parent"
   ]
  },
  {
   "cell_type": "markdown",
   "metadata": {},
   "source": [
    "## UAV Child Path Class\n",
    "Each class must be created for each child. Each child will  have mustiple chromosomes within, which will allow it to mutate."
   ]
  },
  {
   "cell_type": "code",
   "execution_count": null,
   "metadata": {},
   "outputs": [],
   "source": [
    "class UAVchild:\n",
    "    def __init__(self, born, current,chromo):\n",
    "        self.born = born\n",
    "        self.current = current\n",
    "        self.chromo = chromo"
   ]
  },
  {
   "cell_type": "markdown",
   "metadata": {},
   "source": [
    "## User Equipment point Set\n",
    "Each object will have a set of points where the UE are, and a set of determinated clusters according to those points."
   ]
  },
  {
   "cell_type": "code",
   "execution_count": null,
   "metadata": {},
   "outputs": [],
   "source": [
    "class UserEquipmentSet:\n",
    "    def __init__(self,points):\n",
    "            self.points = points\n",
    "            self.clusters = {}"
   ]
  },
  {
   "cell_type": "markdown",
   "metadata": {},
   "source": [
    "## Macro Basestation point Set\n",
    "Each object will have a set of points that establishes where will working base stations be stablished within an experiment."
   ]
  },
  {
   "cell_type": "code",
   "execution_count": null,
   "metadata": {},
   "outputs": [],
   "source": [
    "class MacroBaseSet:\n",
    "    def __init__(self,points):\n",
    "            self.points = points\n",
    "            self.clusters = {}"
   ]
  }
 ],
 "metadata": {
  "kernelspec": {
   "display_name": "Python 3",
   "language": "python",
   "name": "python3"
  },
  "language_info": {
   "codemirror_mode": {
    "name": "ipython",
    "version": 3
   },
   "file_extension": ".py",
   "mimetype": "text/x-python",
   "name": "python",
   "nbconvert_exporter": "python",
   "pygments_lexer": "ipython3",
   "version": "3.7.1"
  }
 },
 "nbformat": 4,
 "nbformat_minor": 2
}
